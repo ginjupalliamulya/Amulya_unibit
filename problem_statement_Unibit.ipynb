{
 "cells": [
  {
   "cell_type": "markdown",
   "id": "8a2f25ad",
   "metadata": {},
   "source": [
    "Given an array of integers and a target value, you must determine which two integers' sum\n",
    "equals the target and return a 2D array. Then merge the array into a single array with sorting ( ascending ) order, in the next step double the target value and find again the combination of digits (can be multiple digits ) that are equal to the double targeted value and returned into a 2D array. Sample Input : [1, 3, 2, 2, -4, -6, -2, 8]; Target Value = 4, Output: First Combination For “4” : [ [1,3],[2,2],[-4,8],[-6,2] ]; Merge Into a single Array : [-6,-4,1,2,2,2,3,8]; Second Combination For “8” : [ [ 1,3,2,2], [8,-4,2,2],....,[n,n,n,n]\n"
   ]
  },
  {
   "cell_type": "code",
   "execution_count": 1,
   "id": "08e3b198",
   "metadata": {},
   "outputs": [
    {
     "name": "stdout",
     "output_type": "stream",
     "text": [
      "First Combination For 4 : [[1, 3], [3, 1], [2, 2], [2, 2], [-4, 8], [8, -4], [-6, 10], [-2, 6]]\n",
      "Merge Into a single Array: [-6, -4, -2, 1, 2, 2, 3, 8]\n",
      "Second Combination For 8 : [[-6, -4, -2, 1, 2, 2, 3, 8], [-4, -2, 1, 2, 2, 3, 8], [-2, 1, 2, 2, 3, 8], [1, 2, 2, 3, 8], [2, 3, 8], [3, 8], [8]]\n"
     ]
    }
   ],
   "source": [
    "def find_combinations(nums, target):\n",
    "    pairs = {}\n",
    "    \n",
    "    for num in nums:\n",
    "        diff = target - num\n",
    "        \n",
    "        if diff in pairs:\n",
    "            pairs[diff].append([num, diff])\n",
    "        else:\n",
    "            pairs[num] = [[num, diff]]\n",
    "    \n",
    "    combination1 = [pair for pair_list in pairs.values() for pair in pair_list]\n",
    "    \n",
    "    merged_array = sorted(nums)\n",
    "    \n",
    "    doubled_target = target * 2\n",
    "    \n",
    "    pairs = {}\n",
    "    \n",
    "    for i, num in enumerate(merged_array):\n",
    "        diff = doubled_target - num\n",
    "        \n",
    "        if diff in pairs:\n",
    "            pairs[diff].append(merged_array[i:])\n",
    "        else:\n",
    "            pairs[num] = [merged_array[i:]]\n",
    "    \n",
    "    combination2 = [pair for pair_list in pairs.values() for pair in pair_list]\n",
    "    \n",
    "    return combination1, combination2\n",
    "\n",
    "# Sample input\n",
    "input_nums = [1, 3, 2, 2, -4, -6, -2, 8]\n",
    "target_value = 4\n",
    "\n",
    "combinations1, combinations2 = find_combinations(input_nums, target_value)\n",
    "\n",
    "print(\"First Combination For\", target_value, \":\", combinations1)\n",
    "print(\"Merge Into a single Array:\", sorted(input_nums))\n",
    "print(\"Second Combination For\", target_value * 2, \":\", combinations2)\n"
   ]
  },
  {
   "cell_type": "code",
   "execution_count": null,
   "id": "8f8d742e",
   "metadata": {},
   "outputs": [],
   "source": []
  }
 ],
 "metadata": {
  "kernelspec": {
   "display_name": "Python 3 (ipykernel)",
   "language": "python",
   "name": "python3"
  },
  "language_info": {
   "codemirror_mode": {
    "name": "ipython",
    "version": 3
   },
   "file_extension": ".py",
   "mimetype": "text/x-python",
   "name": "python",
   "nbconvert_exporter": "python",
   "pygments_lexer": "ipython3",
   "version": "3.9.7"
  }
 },
 "nbformat": 4,
 "nbformat_minor": 5
}
